{
 "cells": [
  {
   "cell_type": "markdown",
   "metadata": {},
   "source": [
    "# Week 5 worksheet: Better plots, docstrings, and SciPy\n",
    "\n",
    "In this worksheet, we learn how to customise plots to better convey essential information. We also discuss docstrings in a little more depth. Finally, we introduce the **SciPy** module, and use some of the tools it provides for statistics and optimisation.\n",
    "\n",
    "The best way to learn programming is to write code. Don't hesitate to edit the code in the example cells, or add your own code, to test your understanding. You will find practice exercises throughout the notebook, denoted by 🚩 ***Exercise $x$:***.\n",
    "\n",
    "#### Displaying solutions\n",
    "\n",
    "Solutions will be released at the end of each week, as a new `.txt` file in the same GitHub repository. After pulling the file to your computer:\n",
    "- **Run this cell** to enable widgets:"
   ]
  },
  {
   "cell_type": "code",
   "execution_count": null,
   "metadata": {},
   "outputs": [],
   "source": [
    "from show_solutions import show"
   ]
  },
  {
   "cell_type": "markdown",
   "metadata": {},
   "source": [
    "- **Run the cell below each question** to create clickable buttons under each exercise, which will allow you to reveal the solutions.\n",
    "\n",
    "---\n",
    "## Customising plots\n",
    "\n",
    "### Setting plot axis properties\n",
    "\n",
    "#### Axis limits\n",
    "\n",
    "The axis range on your plots can be controlled using the `.set_xlim()` and `.set_ylim()` methods. For example, the following code plots the function $\\sin \\left( x \\right)$ for $x \\in \\left[ 0, 2 \\pi \\right]$ on the `Axes` object assigned to the variable `my_ax`, and then specifies that the $x$-axis range should be from $0$ to $2 \\pi$, and the $y$-axis range should be from $-1.1$ to $1.1$."
   ]
  },
  {
   "cell_type": "code",
   "execution_count": null,
   "metadata": {
    "scrolled": true
   },
   "outputs": [],
   "source": [
    "import matplotlib.pyplot as plt\n",
    "import numpy as np\n",
    "\n",
    "# Create 100 x-values from 0 to 2*pi\n",
    "x = np.linspace(0, 2*np.pi, 100)\n",
    "\n",
    "# Create the figure and axes\n",
    "my_fig, my_ax = plt.subplots()\n",
    "\n",
    "# Plot sin(x)\n",
    "my_ax.plot(x, np.sin(x), 'k-')\n",
    "\n",
    "# Adjust the x-axis and y-axis limits to tidy up the plot\n",
    "my_ax.set_xlim([0, 2*np.pi])\n",
    "my_ax.set_ylim([-1.1, 1.1])\n",
    "\n",
    "# Show the figure\n",
    "plt.show()"
   ]
  },
  {
   "cell_type": "markdown",
   "metadata": {},
   "source": [
    "#### Axis labels\n",
    "\n",
    "Axis labels can be added using the `.set_xlabel()` and `.set_ylabel()` methods, for example\n",
    "\n",
    "```python\n",
    "ax.set_xlabel('x', fontsize=12)\n",
    "```\n",
    "\n",
    "The label is the first argument, a string. The additional argument, `fontsize=12`, is used to control the font size of the axis label, here setting the font size to $12$pt.  If you wish you can use LaTeX in axis labels via\n",
    "\n",
    "```python\n",
    "ax.set_xlabel(r'$x$', fontsize=12)\n",
    "```\n",
    "\n",
    "where the `r` before the label means \"raw string\"; this allows backslashes in e.g. LaTeX math symbols to be interpreted correctly.\n",
    "\n",
    "> Plots should **always** include appropriate labelling!\n",
    "\n",
    "---\n",
    "🚩 ***Exercise 1:*** Start by pasting your code for Exercise 8 in the Week 4 worksheet, to create the 3 plots again. Use `set_xlim` to control the $x$-axis range for each of the 3 plots, plotting values of $x \\in \\left[-\\pi, \\pi \\right]$.\n",
    "\n",
    "Use `set_xlabel` and `set_ylabel` to add axis labels to the plots, with a font size of $14$pt.\n",
    "\n",
    "*Hints:*\n",
    "* If the plot becomes a little squeezed, you can adjust the *spacing* between the subplots in a figure after you have created them, using the function `plt.subplots_adjust()`, for example\n",
    "```python\n",
    "plt.subplots_adjust(hspace=0.5, wspace=0.5)\n",
    "```\n",
    "where `hspace` (height spacing) and `wspace` (width spacing) should take values between 0 and 1. (See [Matplotlib: subplots_adjust](https://matplotlib.org/api/_as_gen/matplotlib.pyplot.subplots_adjust.html))\n",
    "* Since the axes are indexed by number, you can use a `for` loop to set properties common to all axes."
   ]
  },
  {
   "cell_type": "code",
   "execution_count": null,
   "metadata": {},
   "outputs": [],
   "source": []
  },
  {
   "cell_type": "code",
   "execution_count": null,
   "metadata": {
    "tags": [
     "solution_cell"
    ]
   },
   "outputs": [],
   "source": [
    "show('week05_ex1')"
   ]
  },
  {
   "cell_type": "markdown",
   "metadata": {},
   "source": [
    "---\n",
    "### Adding a legend\n",
    "\n",
    "Earlier, we have seen how to display multiple lines on the same set of axes. When doing so, it is essential to add a legend to the plot, using **`ax.legend()`**, which labels all curves of the plot in `ax`. The label text should be set **when plotting the curve**, using the `label=` keyword argument of `.plot()`, and can contain LaTeX code.\n",
    "\n",
    "For example, the following code displays a legend on `ax` with the green curve labelled $y_1$ and the yellow curve labelled $y_2$."
   ]
  },
  {
   "cell_type": "code",
   "execution_count": null,
   "metadata": {},
   "outputs": [],
   "source": [
    "# Create an x-axis, and make 2 linear functions of x\n",
    "x = np.linspace(-3, 3, 100)\n",
    "y1 = 3*x - 2\n",
    "y2 = -0.5*x + 1.5\n",
    "\n",
    "# Plot both curves on the same axes\n",
    "fig, ax = plt.subplots()\n",
    "ax.plot(x, y1, 'g-', label=r'$y_1$')\n",
    "ax.plot(x, y2, 'y-', label=r'$y_2$')\n",
    "\n",
    "# .legend() will use the \"label\" arguments for each curve\n",
    "ax.legend(loc='lower right', fontsize=14)\n",
    "\n",
    "plt.show()"
   ]
  },
  {
   "cell_type": "markdown",
   "metadata": {},
   "source": [
    "Note that the **location** can be controlled via an additional keyword argument `loc`, followed by a string indicating the location. Other locations can be chosen, for example you can try changing `'lower right'` to `'upper left'`.\n",
    "\n",
    "The legend font size is also controlled the same way as for axis labels, e.g. here the font size is set to $14$.\n",
    "\n",
    "---\n",
    "**📚 Learn more:**\n",
    "* [Matplotlib: legend](https://matplotlib.org/api/_as_gen/matplotlib.pyplot.legend.html) - Documentation\n",
    "* [Customizing Plot Legends](https://jakevdp.github.io/PythonDataScienceHandbook/04.06-customizing-legends.html) - The Python Data Science Handbook\n",
    "\n",
    "---\n",
    "🚩 ***Exercise 2:*** The Maclaurin series for $\\cos(x)$ is given by\n",
    "\n",
    "$$\n",
    "\\cos(x) = \\sum_{k=0}^{\\infty} (-1)^k \\frac{x^{2k}}{(2k)!}.\n",
    "$$\n",
    "\n",
    "Create a new figure with a single set of axes. Plot $\\cos(x)$ over the interval $[-\\pi, \\pi]$. On the same axes, plot the Maclaurin series truncated to the second, fourth, and sixth order terms, evaluated over the same interval. Set the axis ranges and labels, and add a legend to the plot.\n",
    "\n",
    "*Hint:* you may wish to use the function [`math.factorial()` included with the `math` module](https://docs.python.org/3/library/math.html)."
   ]
  },
  {
   "cell_type": "code",
   "execution_count": null,
   "metadata": {},
   "outputs": [],
   "source": []
  },
  {
   "cell_type": "code",
   "execution_count": null,
   "metadata": {
    "tags": [
     "solution_cell"
    ]
   },
   "outputs": [],
   "source": [
    "show('week05_ex2')"
   ]
  },
  {
   "cell_type": "markdown",
   "metadata": {},
   "source": [
    "---\n",
    "🚩 ***Exercise 3:*** Reproduce the following figure, as closely as possible. (Note: the triangles are called \"markers\" -- you can search for that in the documentation.)\n",
    "\n",
    "![The figure to reproduce.](graphics/fig.png)"
   ]
  },
  {
   "cell_type": "code",
   "execution_count": null,
   "metadata": {},
   "outputs": [],
   "source": []
  },
  {
   "cell_type": "code",
   "execution_count": null,
   "metadata": {
    "tags": [
     "solution_cell"
    ]
   },
   "outputs": [],
   "source": [
    "show('week05_ex3')"
   ]
  },
  {
   "cell_type": "markdown",
   "metadata": {},
   "source": [
    "---\n",
    "## Docstrings\n",
    "\n",
    "As you've probably realised by now, after our first code review workshop, code is written to be readable and understandable to **humans**. The Python interpreter takes care of translating it to machine instructions for the computer.\n",
    "\n",
    "We have already seen examples of **docstrings** -- they are the comments in `'''` triple quotes just below the `def` statement when defining a function. Docstrings simply contain some information about what the function does and how it works.\n",
    "\n",
    "As we saw in Video 3 in Week 4, when you use the function `help(some_function)`, the docstring of `some_function` is displayed.\n",
    "\n",
    "In general, a docstring should consist of:\n",
    "- a brief (1 or 2 sentences) description of what the function does,\n",
    "- a description of all **input arguments** and their **type**,\n",
    "- a description of all **outputs** and their **type**.\n",
    "\n",
    "This is to ensure that anyone using your function knows what type(s) of objects it can be used on, and what type(s) of objects it returns. Here is an example:"
   ]
  },
  {
   "cell_type": "code",
   "execution_count": null,
   "metadata": {
    "scrolled": true
   },
   "outputs": [],
   "source": [
    "def first_and_last(x):\n",
    "    '''\n",
    "    Returns the first and last characters of a string.\n",
    "    \n",
    "    Input:\n",
    "        x (str): the input string.\n",
    "    \n",
    "    Output:\n",
    "        out (str): a new string made of the first and\n",
    "        the last characters of x.\n",
    "    '''\n",
    "    out = x[0] + x[-1]\n",
    "    return out\n",
    "\n",
    "print(first_and_last('Things'))\n",
    "\n",
    "help(first_and_last)"
   ]
  },
  {
   "cell_type": "markdown",
   "metadata": {},
   "source": [
    "---\n",
    "🚩 ***Exercise:*** Write docstrings as above for some of the functions you wrote in the quizzes."
   ]
  },
  {
   "cell_type": "code",
   "execution_count": null,
   "metadata": {},
   "outputs": [],
   "source": []
  },
  {
   "cell_type": "markdown",
   "metadata": {},
   "source": [
    "---\n",
    "## SciPy\n",
    "\n",
    "The **SciPy** library provides a set of scientific computing tools for Python -- [it is actually a relative of Numpy](https://www.scipy.org/scipylib/faq.html#numpy-vs-scipy-vs-other-packages). I would recommend you have a browse of the documentation and tutorial linked below to get an idea of all the functionalities included. For this course, we will give a brief tour of some of SciPy's modules in action, to give you a sense of how they might be used to solve practical problems.\n",
    "\n",
    "---\n",
    "**📚 Learn more:**\n",
    "* [SciPy documentation](https://docs.scipy.org/doc/scipy/reference/)\n",
    "* [SciPy tutorial - Introduction](https://docs.scipy.org/doc/scipy/reference/tutorial/general.html)\n",
    "* [Frequently asked questions - SciPy documentation](https://www.scipy.org/scipylib/faq.html#frequently-asked-questions)\n",
    "* [Optimization](https://docs.scipy.org/doc/scipy/reference/optimize.html) - This contains functions for finding minima (or maxima) and roots of equations in one or more dimensions.\n",
    "* [Interpolation](https://docs.scipy.org/doc/scipy/reference/interpolate.html) - Contains functions for interpolating values using splines or other approximating polynomials.\n",
    "* [Statistics](https://docs.scipy.org/doc/scipy/reference/stats.html) - Many more statistics related functions.\n",
    "* [Integration](https://docs.scipy.org/doc/scipy/reference/integrate.html) - Contains functions for performing integration (using Simpson's rule and more complicated quadrature rules).\n",
    "\n",
    "---\n",
    "\n",
    "### Interpolating some noisy data\n",
    "\n",
    "Suppose we have a set of data points $(x_i, y_i)$, with coordinates stored in vectors `x` and `y`. The **`interpolate` sub-module** provides tools to interpolate data. In particular, it contains many functions for constructing piecewise polynomials, and in particular [splines](https://en.wikipedia.org/wiki/Spline_(mathematics)).\n",
    "\n",
    "Below is an example of how spline interpolation might be used:"
   ]
  },
  {
   "cell_type": "code",
   "execution_count": null,
   "metadata": {},
   "outputs": [],
   "source": [
    "# First, import all necessary modules\n",
    "import numpy as np\n",
    "import scipy.interpolate\n",
    "import scipy as scp\n",
    "%matplotlib notebook\n",
    "import matplotlib.pyplot as plt\n",
    "\n",
    "# Generate some data that looks like a smooth curve with some \n",
    "# noise overlayed:\n",
    "def generate_data(x):\n",
    "    '''\n",
    "    Generate some smooth data (sin curve) with overlaid noise \n",
    "    coming from a Normal distribution.\n",
    "    '''\n",
    "    # Generate some noise from a Normal distribution - \n",
    "    # this generates an array of values simulated from \n",
    "    # an N(0, 0.3**2), with the array of the same length as x:\n",
    "    noise = np.random.normal(0, 0.2, len(x))\n",
    "    y = np.sin(x) + noise\n",
    "    return y\n",
    "\n",
    "# Set up x and generate y data:\n",
    "step = 0.4\n",
    "x = np.arange(0, 10 + step, step)\n",
    "y = generate_data(x)\n",
    "\n",
    "# Make an interpolating function - this one goes through all of the \n",
    "# data points, and joins them with a piecewise cubic function:\n",
    "f_interp = scp.interpolate.interp1d(x, y, kind='cubic')\n",
    "\n",
    "# Now fit a spline using a different function that takes a smoothing \n",
    "# parameter s, this spline won't go through all of the points but will \n",
    "# look smoother:\n",
    "f_smooth = scp.interpolate.UnivariateSpline(x, y, s=4)\n",
    "\n",
    "# Now suppose we want a value for y at a point in between\n",
    "# our x values - let's say x = 1.5:\n",
    "print(f_interp(1.5))\n",
    "print(f_smooth(1.5))\n",
    "\n",
    "# Make a denser x-axis to plot our interpolated functions\n",
    "xmin, xmax = x[0], x[-1]\n",
    "dense_step = 0.05\n",
    "x_dense = np.arange(xmin, xmax + dense_step, dense_step)\n",
    "\n",
    "# Plot the data\n",
    "fig, ax = plt.subplots()\n",
    "\n",
    "ax.plot(x, y, 'k.', label='Noisy data')\n",
    "ax.plot(x_dense, np.sin(x_dense), 'g-', label='Underlying function')\n",
    "ax.plot(x_dense, f_interp(x_dense), 'c--', label='Interpolating spline')\n",
    "ax.plot(x_dense, f_smooth(x_dense), 'r-.', label='Smooth spline')\n",
    "\n",
    "ax.set_xlabel(r'$x$')\n",
    "ax.set_ylabel(r'$y$')\n",
    "ax.set_xlim([xmin, xmax])\n",
    "ax.legend(loc='upper center')\n",
    "\n",
    "plt.show()"
   ]
  },
  {
   "cell_type": "markdown",
   "metadata": {},
   "source": [
    "Note that the interpolating functions (here, `scp.interpolate.interp1d()` and `scp.interpolate.UnivariateSpline`) **return a function object**, which we can then call as any other function.\n",
    "\n",
    "Make sure to look up the two spline fitting functions to check you understand how the call here matches what is in the documentation.\n",
    "\n",
    "---\n",
    "***🚩 Exercise:***\n",
    "* Try a different function as the smooth background function from `np.sin(x)`.\n",
    "* Modify the function `generate_data()` to also take the standard deviation of the noise as input. Experiment with different values, and observe how well or poorly the splines fit the data, depending on how noisy it is.\n",
    "* Try changing the smoothing parameter `s` in the second fitted spline. How does this change the result? Can you make it look like the first interpolating spline?\n",
    "\n",
    "---\n",
    "\n",
    "### Summary statistics, reading a file\n",
    "\n",
    "Next, let's look at some descriptive statistics (means, variance, etc). To do that, we can examine some real data -- the file `oil_reserve_data.csv` should have been downloaded to your computer (and should therefore be in the same directory as this notebook) when you cloned this week's repository. The file is a slightly edited version of one that comes from [this EU data source](http://data.europa.eu/euodp/en/data/dataset/RH8xH4aVauYKO92JJxv8sA). It describes the emergency oil reserves kept by several European countries over recent years."
   ]
  },
  {
   "cell_type": "code",
   "execution_count": null,
   "metadata": {},
   "outputs": [],
   "source": [
    "import numpy as np\n",
    "import scipy.stats as stats\n",
    "\n",
    "# Use Numpy's loadtxt function to open the data file:\n",
    "oil_data = np.loadtxt('oil_reserve_data.csv',\n",
    "                      dtype=float,\n",
    "                      delimiter=',',\n",
    "                      skiprows=1,\n",
    "                      usecols=(1, 2, 3, 4))"
   ]
  },
  {
   "cell_type": "markdown",
   "metadata": {},
   "source": [
    "Note that we have to skip a row and not use the first column in order to get a section of this file that is all of floating point type. Have a look at the file e.g. in Excel to see what it looks like. (In a couple of weeks, we will see better ways to import this type of data, using the `pandas` module.)"
   ]
  },
  {
   "cell_type": "code",
   "execution_count": null,
   "metadata": {},
   "outputs": [],
   "source": [
    "# Unpack each column into a different array named for the \n",
    "# country depicted in the data (use transpose to obtain the\n",
    "# array as a list of rows):\n",
    "germany, denmark, belgium, bulgaria = oil_data.T\n",
    "\n",
    "# Use the describe function to get basic summary statistics:\n",
    "print('stats.describe output:')\n",
    "print('Germany:\\n', stats.describe(germany))\n",
    "print('Denmark:\\n', stats.describe(denmark))\n",
    "\n",
    "# Find the 5% and 95% percentile locations:\n",
    "print('\\n5% and 95% percentiles:')\n",
    "print(np.percentile(germany, (5, 95)))\n",
    "\n",
    "# Find the Pearson's and Spearman's correlation coefficients\n",
    "# between two columns:\n",
    "print('\\nCorrelation coefficients for Germany/Denmark and Germany/Bulgaria:')\n",
    "print(stats.pearsonr(germany, denmark))\n",
    "print(stats.spearmanr(germany, bulgaria))\n",
    "\n",
    "# We can save out an array to a file using Numpy's\n",
    "# savetxt() function:\n",
    "np.savetxt('belgium.txt', belgium)"
   ]
  },
  {
   "cell_type": "markdown",
   "metadata": {},
   "source": [
    "---\n",
    "🚩 ***Exercise 4:***\n",
    "- What is the median value for Bulgaria? the mode? the geometric mean?\n",
    "- Try finding correlations between the different columns.\n",
    "- Can you find a linear relationship between the data from Germany and Denmark (i.e., can you fit a linear function $y = ax + b$, where $x$ is the data for Germany and $y$ the data for Bulgaria)?\n",
    "\n",
    "Look for the relevant functions in the documentation for Numpy and for `scipy.stats`."
   ]
  },
  {
   "cell_type": "code",
   "execution_count": null,
   "metadata": {},
   "outputs": [],
   "source": []
  },
  {
   "cell_type": "code",
   "execution_count": null,
   "metadata": {},
   "outputs": [],
   "source": [
    "show('week05_ex4')"
   ]
  },
  {
   "cell_type": "markdown",
   "metadata": {},
   "source": [
    "---\n",
    "### Optimisation\n",
    "\n",
    "The module `scipy.optimize` may be of interest for those of you interested in optimisation, for instance in operational research. For example, let's try one of the problems from [this page](http://people.brunel.ac.uk/~mastjjb/jeb/or/morelp.html):\n",
    "\n",
    "> A carpenter makes tables and chairs. Each table can be sold for a profit of £30 and each chair for a profit of £10.\n",
    "> 1. The carpenter can afford to spend up to 40 hours per week working and takes six hours to make a table and three hours to make a chair.\n",
    "> 2. Customer demand requires that they make at least three times as many chairs as tables.\n",
    "> 3. Tables take up four times as much storage space as chairs and there is room for at most four tables each week.\n",
    "\n",
    "The goal is to **maximise** the profit that the carpenter can make in 1 week, by finding the optimal number of tables $x_T$ and number of chairs $x_C$ that they should make.\n",
    "\n",
    "This is a *linear programming problem*: we need to maximise the weekly profit, given by the objective function $f(x_T, x_C) = 30x_T + 10x_C$, subject to 3 linear constraints:\n",
    "\n",
    "$$\n",
    "\\begin{align}\n",
    "0. & & x_T &\\geq 0, x_C \\geq 0 \\\\\n",
    "1. & & 6x_T + 3x_C &\\leq 40 \\\\\n",
    "2. & & x_C &\\geq 3x_T \\\\\n",
    "3. & & x_C/4 + x_T &\\leq 4\n",
    "\\end{align}\n",
    "$$\n",
    "\n",
    "We can use [`scipy.optimize.linprog()`](https://docs.scipy.org/doc/scipy/reference/tutorial/optimize.html#linear-programming-linprog) to solve this problem, but first we need to rearrange it a little bit, to fit the kind of input that this function takes.\n",
    "\n",
    "$$\n",
    "\\begin{align}\n",
    "&\\min_{x_T, x_C} -30x_T - 10x_C, \\\\\n",
    "&\\text{such that} \\quad\n",
    "\\begin{bmatrix}\n",
    "-1 & 0 \\\\\n",
    "0 & -1 \\\\\n",
    "6 & 3 \\\\\n",
    "3 & -1 \\\\\n",
    "1 & \\frac{1}{4}\n",
    "\\end{bmatrix}\n",
    "\\begin{bmatrix}\n",
    "x_T \\\\ x_C\n",
    "\\end{bmatrix}\n",
    "\\leq\n",
    "\\begin{bmatrix}\n",
    "0 \\\\ 0 \\\\ 40 \\\\ 0 \\\\ 4\n",
    "\\end{bmatrix}.\n",
    "\\end{align}\n",
    "$$\n",
    "\n",
    "Looking at the documentation, the default bounds on the variable values is that they are non-negative, which corresponds to our problem here -- so we don't need to specify them."
   ]
  },
  {
   "cell_type": "code",
   "execution_count": null,
   "metadata": {},
   "outputs": [],
   "source": [
    "from scipy.optimize import linprog\n",
    "\n",
    "A = np.array([[6, 3],\n",
    "              [3, -1],\n",
    "              [1, 0.25]])\n",
    "\n",
    "b = np.array([40, 0, 4], dtype=float)\n",
    "c = np.array([-30, -10], dtype=float)\n",
    "\n",
    "solution = linprog(c, A, b)\n",
    "print('Output of linprog:')\n",
    "print(solution, '\\n')\n",
    "\n",
    "results = A @ solution.x\n",
    "\n",
    "print(f'The optimal strategy is to make {solution.x[0]:.2f} tables',\n",
    "      f'and {solution.x[1]:.2f} chairs every week (on average), for',\n",
    "      f'a profit of £{-solution.fun:.2f} per week.',\n",
    "      f'This is {results[0]:.1f} hours of work per week, '\n",
    "      f'taking up {100*results[2]/4:.1f}% of storage space.')"
   ]
  },
  {
   "cell_type": "markdown",
   "metadata": {},
   "source": [
    "There are many other optimisation and root-finding methods available in `scipy.optimise`, each more or less well-suited to different problems. When faced with such a problem, the best thing to do is to have a browse in the documentation, and find if there is perhaps a method already implemented there that you could use.\n",
    "\n",
    "---\n",
    "🚩 ***Exercise 5:*** The carpenter is aiming to make a profit of at least £150 per week, but now they have twice the storage space. What is the minimum number of hours they need to work in a week to achieve this?\n",
    "\n",
    "What if they have to make exactly 3 chairs for each table?"
   ]
  },
  {
   "cell_type": "code",
   "execution_count": null,
   "metadata": {},
   "outputs": [],
   "source": []
  },
  {
   "cell_type": "code",
   "execution_count": null,
   "metadata": {},
   "outputs": [],
   "source": [
    "show('week05_ex5')"
   ]
  }
 ],
 "metadata": {
  "kernelspec": {
   "display_name": "Python 3",
   "language": "python",
   "name": "python3"
  },
  "language_info": {
   "codemirror_mode": {
    "name": "ipython",
    "version": 3
   },
   "file_extension": ".py",
   "mimetype": "text/x-python",
   "name": "python",
   "nbconvert_exporter": "python",
   "pygments_lexer": "ipython3",
   "version": "3.7.6"
  }
 },
 "nbformat": 4,
 "nbformat_minor": 4
}
